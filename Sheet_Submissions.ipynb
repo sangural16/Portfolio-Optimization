{
 "cells": [
  {
   "cell_type": "code",
   "execution_count": 212,
   "metadata": {},
   "outputs": [],
   "source": [
    "import pandas as pd\n",
    "import numpy as np\n",
    "np.seterr(divide='ignore', invalid='ignore')\n",
    "import os.path\n",
    "try:\n",
    "    from urllib2 import urlopen\n",
    "except ImportError:\n",
    "    from urllib.request import urlopen"
   ]
  },
  {
   "cell_type": "markdown",
   "metadata": {},
   "source": [
    "### Helper Functions ###\n",
    "\n",
    "#### Step 0: Load the helper functions below, you will be using them later to evaluate your logic. \n",
    "It is very IMPORTANT that you DONOT change these functions or your final submission will not evaluate correctly. The functions to modify are mentioned below"
   ]
  },
  {
   "cell_type": "markdown",
   "metadata": {},
   "source": [
    "* Dataset File Download Function"
   ]
  },
  {
   "cell_type": "code",
   "execution_count": 213,
   "metadata": {},
   "outputs": [],
   "source": [
    "#### LOAD THE HELPER FUNCTIONS BELOW####\n",
    "#### IMPORTANT: DONOT change these functions or your final submission will not evaluate correctly###\n",
    "\n",
    "## This downloads your datafile, Do not change this function\n",
    "def downloadFile(dataSetId):\n",
    "      fileName = '%s.csv' % (dataSetId)\n",
    "      url = 'https://raw.githubusercontent.com/Auquan/qq-winter2019/master/' + fileName\n",
    "\n",
    "      response = urlopen(url)\n",
    "      status = response.getcode()\n",
    "      if status == 200:\n",
    "          print('Downloading the dataset %s' % (fileName))\n",
    "          with open(fileName, 'w') as f:\n",
    "              f.write(response.read().decode('utf8'))\n",
    "          return True\n",
    "      else:\n",
    "          logError('File not found. Please ensure you are working with correct data set Id')\n",
    "          return False\n",
    "\n",
    "    "
   ]
  },
  {
   "cell_type": "markdown",
   "metadata": {},
   "source": [
    "* Reward Function"
   ]
  },
  {
   "cell_type": "code",
   "execution_count": 214,
   "metadata": {},
   "outputs": [],
   "source": [
    "## This calculates the reward, Do not change this function\n",
    "def getReward(wt, wt_1, ri, l, k):\n",
    "    if ri is None:\n",
    "        port_returns.append(0)\n",
    "        sharpe_ratio.append(0)\n",
    "        port_volatility.append(0)\n",
    "        reward = 0\n",
    "    else:\n",
    "        ri.fillna(0, inplace=True)\n",
    "        returns = np.dot( ri, wt_1)\n",
    "        port_returns.append(returns)\n",
    "        downside_returns = [x for x in port_returns if x < 0]\n",
    "        volatility = np.std(downside_returns) #np.sqrt(np.dot(weights.T, np.dot(cov_annual, weights)))\n",
    "        sharpe = np.sum(port_returns) / volatility if volatility!=0 else 0\n",
    "        sharpe_ratio.append(sharpe)\n",
    "        port_volatility.append(volatility)\n",
    "        phi = k*(wt - wt_1).abs().sum()\n",
    "        reward = returns - l*volatility - phi\n",
    "        print(returns, volatility, phi, sharpe, reward)\n",
    "    return reward\n",
    "            "
   ]
  },
  {
   "cell_type": "markdown",
   "metadata": {},
   "source": [
    "* Check Constraints Functions"
   ]
  },
  {
   "cell_type": "code",
   "execution_count": 215,
   "metadata": {},
   "outputs": [],
   "source": [
    "## Do not change this function, this verifies if all constraints are met\n",
    "def checkConstraints(wt, wt_1, wi, Dt, St, Qt, g, U, t, T, P, delta, chi, eta):\n",
    "    violated = False\n",
    "    if int(wt.sum())!=1:\n",
    "        print(\"Fully Invested Constraint Violated: Sum of weights is not 1\")\n",
    "        violated = True\n",
    "    if (wt>np.maximum(g, 1/float(len(wi)))).any():\n",
    "        print(\"Diversification Constraint Violated: All weights are not less than parameter %.2f\"%np.maximum(g, 1/float(len(wi))))\n",
    "        violated = True\n",
    "    if wt_1 is None:\n",
    "        turnover = 0\n",
    "    else:\n",
    "        ix = wt.index | wt_1.index\n",
    "        tn = wt.reindex(ix) - wt_1.reindex(ix)\n",
    "        tn[tn.isnull()&tn.index.isin(wt.index)] = wt\n",
    "        tn[tn.isnull()&tn.index.isin(wt_1.index)] = -wt_1\n",
    "        turnover = (tn).abs().sum()/2\n",
    "    turnover_list.append(turnover)\n",
    "    if (np.sum(turnover_list[-12:])>U):\n",
    "        print(\"%0.2f Turnover Constraint Violated: Turnover Limit exceeded\"%np.sum(turnover_list[-12:]))\n",
    "        violated = True\n",
    "    if (wt<t).any():\n",
    "        print(\"Shortsell Constraint Violated: all weights are not greater than parameter t\")\n",
    "        violated = True\n",
    "    if wt[wt<0].sum()<T:\n",
    "        print(\"Max Shortsell Constraint Violated: sum of all weights are not greater than parameter T\")\n",
    "        violated = True\n",
    "    if wt[wt!=0].count() < np.minimum(P, len(wt)):\n",
    "        print(\"Min number of positions Constraint Violated: count of all weights <>0 %i are not greater than parameter P%i\"%(wt[wt!=0].count(), np.minimum(P, len(wt))))\n",
    "        violated = True\n",
    "    if (wt*Dt).sum()/ (wi*Dt).sum() > delta:\n",
    "        print(\"Duration Constraint Violated: wt*Dt/ wi*Dt is greater than parameter delta\")\n",
    "        violated = True\n",
    "    if (wt*St).sum()/ (wi*St).sum() > chi:\n",
    "        print(\"Spread Constraint Violated: wt*St/ wi*St is greater than parameter chi\")\n",
    "        violated = True\n",
    "    if (wt*(1-Qt)).sum() != 0:\n",
    "        print(\"Qualification Constraint Violated: wt*(1-qt) is not zero\")\n",
    "        violated = True\n",
    "#     if returns - Rlow/ volatility <= np.sqrt(1-eta):\n",
    "#         print(\"Max Risk probability Constraint Violated: returns - Rlow/ volatility <= np.sqrt(1-eta)\")\n",
    "            \n",
    "    return violated\n",
    "        \n",
    "        "
   ]
  },
  {
   "cell_type": "code",
   "execution_count": 216,
   "metadata": {},
   "outputs": [],
   "source": [
    "## Do not change this function, this verifies if final constraints are met\n",
    "def checkFinalConstraints(Rmin, volmax):\n",
    "    violated = False\n",
    "    if np.sum(port_returns)<Rmin:\n",
    "        print(\"Total Return Constraint Violated: Total Return is less than Index Return\")\n",
    "        violated = True\n",
    "    if port_volatility[-1]>volmax:\n",
    "        print(\"Volatility Constraint Violated: Vol is higher than Index Vol\")\n",
    "        violated = True\n",
    "    if sharpe_ratio[-1]<Rmin/volmax:\n",
    "        print(\"Sharpe Ratio Constraint Violated: SR is less than Index SR\")\n",
    "        violated = True\n",
    "        return violated"
   ]
  },
  {
   "cell_type": "markdown",
   "metadata": {},
   "source": [
    "## Functions to Modify\n",
    "\n",
    "Now you can fill your logic in functions below. Once you are satisfied, copy the body of the functions below in the template file\n",
    "\n",
    "**NOTE: When copying functions to template file, only copy the body of the function. DONOT change the function name or signature in template file else submission will not evaluate**\n",
    "\n",
    "`def getSymbolsToTrade():`  --> This is function name and signature. <br/>\n",
    "`  return 'G2'`    --> This is function body\n",
    "\n",
    "#### DONOT change the function name or signature in template file else submission will not evaluate"
   ]
  },
  {
   "cell_type": "markdown",
   "metadata": {},
   "source": [
    "### Step 1: Fill the asset group you want to model for"
   ]
  },
  {
   "cell_type": "code",
   "execution_count": 217,
   "metadata": {},
   "outputs": [],
   "source": [
    "#### FILL THE FUNCTIONS BELOW ####\n",
    "\n",
    "## Step 1: Fill the asset group you want to model for\n",
    "## This can be 'G1' or 'G2'\n",
    "def getSymbolsToTrade():\n",
    "    ################################################\n",
    "    ####   COPY FROM BELOW INTO TEMPLATE FILE   ####\n",
    "    ################################################\n",
    "    \n",
    "    return 'G1'\n"
   ]
  },
  {
   "cell_type": "markdown",
   "metadata": {},
   "source": [
    "### Step 2: Fill the logic to generate weights below\n",
    "\n",
    "Do not change the inputs to the function. If you want any extra inputs, specify them in `**kwargs`\n",
    "You can lookup this tutorial on how to use `**kwargs` https://www.geeksforgeeks.org/args-kwargs-python/"
   ]
  },
  {
   "cell_type": "code",
   "execution_count": 218,
   "metadata": {},
   "outputs": [],
   "source": [
    "## Step 2: Fill the logic to generate weights\n",
    "\n",
    "## This function takes in the following inputs:\n",
    "## identifiers: asset identifiers\n",
    "## reward: reward at time t (based on w(t-1))\n",
    "## wi: weights to initialize from, if you want to use\n",
    "## Dt: value of column 'd' per asset\n",
    "## St: value of column 'S' per asset\n",
    "## Qt: value of column 'q' per asset\n",
    "## g: value of constant gamma, read problem descrption for details\n",
    "## U: value of constant U, read problem descrption for details\n",
    "## t: value of constant t, read problem descrption for details\n",
    "## T: value of constant T, read problem descrption for details\n",
    "## P: value of constant P, read problem descrption for details\n",
    "## delta: value of constant delta, read problem descrption for details\n",
    "## chi: value of constant chi, read problem descrption for details\n",
    "## eta: value of constant eta, read problem descrption for details\n",
    "## **kwargs: any additional params you want to add can be specified here. kwargs is a dictionary\n",
    "\n",
    "### do not change the inputs to the function. If you want any extra inputs, specify them in **kwargs\n",
    "### you can lookup this tutorial on how to use **kwargs https://www.geeksforgeeks.org/args-kwargs-python/\n",
    "\n",
    "def getWeights(identifiers, reward, wi, Dt, St, Qt, g, U, t, T, P, delta, chi, eta, counter):\n",
    "    ################################################\n",
    "    ####   COPY FROM BELOW INTO TEMPLATE FILE   ####\n",
    "    ################################################\n",
    "    weights = pd.Series(np.random.random(len(identifiers)), index=identifiers)\n",
    "    from scipy.optimize import minimize\n",
    "    index = getSymbolsToTrade()\n",
    "    if not os.path.isfile('%s.csv'%index):\n",
    "        downloadFile(index)\n",
    "    idx_data = pd.read_csv('%s.csv'%index, index_col='TimeStamp')\n",
    "    idx_data.sort_index(axis=0, level=None, ascending=True, inplace=True)\n",
    "    idx_data = idx_data.dropna(how='any')\n",
    "    #idx_data.fillna(0,inplace=True)\n",
    "    dates = idx_data.index.unique()\n",
    "    date = dates[counter]\n",
    "    idx_data = idx_data[idx_data.index == date]\n",
    "    Qt = idx_data.iloc[:,[6]]['q'].values\n",
    "    Dt = idx_data.iloc[:,[9]]['d'].values\n",
    "    wi = idx_data.iloc[:,[18]]['wI'].values\n",
    "    St = idx_data.iloc[:,[10]]['S'].values\n",
    "    y_pred = CustomFeatures.newFeature1(idx_data)\n",
    "    wt = np.zeros(len(idx_data))\n",
    "\n",
    "    def objective(wt,y_pred):\n",
    "        result = -1*y_pred.dot(wt)\n",
    "        return result\n",
    "    def constrain1(wt):\n",
    "        return wt.sum() - 1\n",
    "    def constrain2(wt):\n",
    "        return (wt - np.maximum(g, 1/float(len(wi)))).any()\n",
    "    def constrain3(wt):\n",
    "        return T - wt[wt<0].sum()\n",
    "    def constrain4(wt):\n",
    "        return np.minimum(P, len(wt)) - len(wt[wt!=0])\n",
    "    def constrain5(wt):\n",
    "        #result = ((Dt*wt).sum(axis=0))\n",
    "        result = Dt.dot(wt)\n",
    "        #result2 = (((Dt*wi).sum(axis=1)).sum(axis=0))\n",
    "        result2 = Dt.dot(wi)\n",
    "        res = delta - result/result2\n",
    "        return res\n",
    "    def constrain6(wt):\n",
    "        #result = ((wt*St).sum(axis=1)).sum(axis=0)\n",
    "        result = wt.dot(St)\n",
    "        #result2 = ((St*wi).sum(axis=1)).sum(axis=0)\n",
    "        result2 = St.dot(wi)\n",
    "        res = chi - result/result2\n",
    "        return res\n",
    "    def constrain7(wt):\n",
    "        wtp=wt.astype(np.float32)\n",
    "        Qtp=Qt.astype(np.float32)\n",
    "        return (wt*(1 - Qt)).sum() == 0\n",
    "    from scipy.optimize import Bounds\n",
    "    bnds = tuple((0.0, 1) for x in wt)\n",
    "    #bnds = Bounds(bnds)\n",
    "    con1 = {'type': 'eq', 'fun': constrain1} \n",
    "    con2 = {'type': 'eq', 'fun': constrain2} \n",
    "    con3 = {'type': 'ineq', 'fun': constrain3} \n",
    "    con4 = {'type': 'ineq', 'fun': constrain4} \n",
    "    con5 = {'type': 'ineq', 'fun': constrain5} \n",
    "    con6 = {'type': 'ineq', 'fun': constrain6} \n",
    "    con7 = {'type': 'eq', 'fun': constrain7} \n",
    "\n",
    "    cons = [con1,con2,con3,con4,con5,con6,con7]\n",
    "\n",
    "    solution = minimize(objective,y_pred,wt,method='TNC',\\\n",
    "                        bounds = bnds,constraints=cons)\n",
    "    weights = weights/weights.sum()\n",
    "    if (weights>g).any():\n",
    "        weights[weights>g] = g\n",
    "        weights = weights/weights.sum()\n",
    "    return weights"
   ]
  },
  {
   "cell_type": "markdown",
   "metadata": {},
   "source": [
    "### Step 3: Optional: Fill in the logic to return predictions for return on asset\n",
    "\n",
    "**Note TRR: Total Return at the end of the period - VERY IMPORTANT!! Don’t use TRR for timestamp t in making predictions for time t. You can use it for time t+1 and later**\n"
   ]
  },
  {
   "cell_type": "code",
   "execution_count": 219,
   "metadata": {},
   "outputs": [],
   "source": [
    "## Step 3: Optional: Fill in the logic to return predictions for return on asset\n",
    "## This function takes in the same inputs as getWeights()\n",
    "\n",
    "### do not change the inputs to the function. If you want any extra inputs, specify them in **kwargs\n",
    "### you can lookup this tutorial on how to use **kwargs https://www.geeksforgeeks.org/args-kwargs-python/\n",
    "\n",
    "def getPrediction(identifiers, wi, Dt, St, Qt, g, U, t, T, P, delta, chi, eta, **kwargs):\n",
    "    ################################################\n",
    "    ####   COPY FROM BELOW INTO TEMPLATE FILE   ####\n",
    "    ################################################\n",
    "    \n",
    "    return np.zeros(len(identifiers))"
   ]
  },
  {
   "cell_type": "markdown",
   "metadata": {},
   "source": [
    "### Step 4: Optional: If your code uses any other helper functions, fill them here\n",
    "\n",
    "use this in functions above in the following manner: </br>\n",
    "\n",
    "```CustomFeatures = CustomFeatures()\n",
    "z = CustomFeatures.newFeature1()```"
   ]
  },
  {
   "cell_type": "code",
   "execution_count": 220,
   "metadata": {},
   "outputs": [],
   "source": [
    "## Step 4: Optional: If your code uses any other helper functions, fill them here\n",
    "\n",
    "### again do not change the inputs to the function. If you want any extra inputs, specify them in **kwargs\n",
    "### you can lookup this tutorial on how to use **kwargs https://www.geeksforgeeks.org/args-kwargs-python/\n",
    "    \n",
    "class CustomFeatures():\n",
    "    def newFeature1(idx_data_test):\n",
    "    ################################################\n",
    "    ####   COPY FROM BELOW INTO TEMPLATE FILE   ####\n",
    "    ################################################\n",
    "        import matplotlib.pyplot as plt\n",
    "        index = getSymbolsToTrade()\n",
    "        if not os.path.isfile('%s.csv'%index):\n",
    "            downloadFile(index)\n",
    "        idx_data = pd.read_csv('%s.csv'%index, index_col='TimeStamp')\n",
    "        idx_data = idx_data.dropna(how='any')\n",
    "        #idx_data.fillna(0,inplace=True)\n",
    "        X = idx_data.iloc[:, [5,6,8,9,10,11,14,15,16,17,18,19,21,22,23,24,25,26,27,28,29,30,31,32,33]].values\n",
    "        y = idx_data.iloc[:, [20]].values\n",
    "        from sklearn.linear_model import LinearRegression\n",
    "        Regressor = LinearRegression()\n",
    "        Regressor.fit(X,y)\n",
    "        idx_data_test = idx_data_test.iloc[:, [5,6,8,9,10,11,14,15,16,17,18,19,21,22,23,24,25,26,27,28,29,30,31,32,33]].values\n",
    "        \n",
    "        from sklearn.preprocessing import StandardScaler\n",
    "        idx_data_test = pd.DataFrame(idx_data_test)\n",
    "        idx_data_test = idx_data_test.dropna(how='any')\n",
    "        #idx_data_test.fillna(0,inplace=True)\n",
    "        idx_data_test = pd.DataFrame(StandardScaler().fit_transform(idx_data_test), columns=idx_data_test.columns, index=idx_data_test.index)\n",
    "        y_pred = Regressor.predict(idx_data_test)\n",
    "        \"\"\"\n",
    "        plt.scatter(y_pred, y_test, color = 'blue')\n",
    "        plt.title('Salary vs Experience (Training set)')\n",
    "        plt.xlabel('Years of Experience')\n",
    "        plt.ylabel('Salary')\n",
    "        plt.show()\n",
    "        \"\"\"\n",
    "        return y_pred"
   ]
  },
  {
   "cell_type": "markdown",
   "metadata": {},
   "source": [
    "### Step 5: Run the cells below to evaluate. \n",
    "\n",
    "The snippet below downloads the correct dataset and lets you explore the dataset.\n",
    "\n",
    "**Note Remember TRR: Total Return at the end of the period - VERY IMPORTANT!! Don’t use TRR for timestamp t in making predictions for time t. You can use it for time t+1 and later**\n"
   ]
  },
  {
   "cell_type": "code",
   "execution_count": 221,
   "metadata": {},
   "outputs": [
    {
     "name": "stdout",
     "output_type": "stream",
     "text": [
      "Data Column Names:\n",
      "Index(['AssetGroup', 'Identifier', 'F2', 'F3', 'F4', 'F5', 'q', 'F7', 'F8',\n",
      "       'd', 'S', 'F11', 'F12', 'F13', 'F14', 'F15', 'F16', 'F17', 'wI', 'F19',\n",
      "       'TRR', 'F21', 'F22', 'F23', 'F24', 'F25', 'F26', 'F27', 'F28', 'F29',\n",
      "       'F30', 'F31', 'F32', 'F33'],\n",
      "      dtype='object')\n",
      "G1 1998-12-31 2018-11-30\n",
      "           AssetGroup Identifier        F2                  F3  \\\n",
      "TimeStamp                                                        \n",
      "1998-12-31         G1   86a1f1ee  bc068363       Capital Goods   \n",
      "1998-12-31         G1   de5b9bca  e5fb34b9  Telecommunications   \n",
      "1998-12-31         G1   2a0a4ee3  62835655      Basic Industry   \n",
      "1998-12-31         G1   a67fb965  81f811c5      Transportation   \n",
      "1998-12-31         G1   52f697cc  2becce58      Basic Industry   \n",
      "1998-12-31         G1   bf46c4bb  57847ea5  Telecommunications   \n",
      "1998-12-31         G1   e39dffda  9c69fc3a  Telecommunications   \n",
      "1998-12-31         G1   98eed4f4  2becce58      Basic Industry   \n",
      "1998-12-31         G1   53b20751  2becce58      Basic Industry   \n",
      "1998-12-31         G1   0ad1c30b  81f811c5      Transportation   \n",
      "\n",
      "                                                  F4  F5  q   F7    F8      d  \\\n",
      "TimeStamp                                                                       \n",
      "1998-12-31                 Diversified Capital Goods   1  1   B1  14.0  2.684   \n",
      "1998-12-31  Telecom - Wireline Integrated & Services   6  1  BB2  12.0  4.514   \n",
      "1998-12-31                                 Chemicals   1  1   B1  14.0  3.703   \n",
      "1998-12-31                                      Rail   2  0   B2  15.0  3.372   \n",
      "1998-12-31                        Building Materials   4  0  BB2  12.0  2.274   \n",
      "1998-12-31  Telecom - Wireline Integrated & Services   2  1   B3  16.0  6.721   \n",
      "1998-12-31  Telecom - Wireline Integrated & Services   2  0  BB2  12.0  3.021   \n",
      "1998-12-31                        Building Materials   4  1  BB2  12.0  4.663   \n",
      "1998-12-31                        Building Materials   4  0  BB2  12.0  1.326   \n",
      "1998-12-31                                      Rail   2  1   B2  15.0  4.254   \n",
      "\n",
      "           ...   F24  F25  F26  F27  F28  F29  F30  F31  F32  F33  \n",
      "TimeStamp  ...                                                     \n",
      "1998-12-31 ...     0    1  7.0  0.0    1  4.0  0.0    1    0 -100  \n",
      "1998-12-31 ...    -4   -4  NaN  NaN   -4  NaN  NaN   -4   -4   -4  \n",
      "1998-12-31 ...    -4   -4  NaN  NaN   -4  NaN  NaN   -4   -4   -4  \n",
      "1998-12-31 ...    -4   -4  NaN  NaN   -4  NaN  NaN   -4   -4   -4  \n",
      "1998-12-31 ...     1    1  7.0  0.0    1  4.0  0.0    1    1  -99  \n",
      "1998-12-31 ...    -4   -4  NaN  NaN   -4  NaN  NaN   -4   -4   -4  \n",
      "1998-12-31 ...     0    1  4.0  4.0    0  1.0  4.0    0    0 -100  \n",
      "1998-12-31 ...     1    1  7.0  0.0    1  4.0  0.0    1    1    1  \n",
      "1998-12-31 ...     1    1  7.0  0.0    1  4.0  0.0    1    1  -99  \n",
      "1998-12-31 ...    -4   -4  NaN  NaN   -4  NaN  NaN   -4   -4   -4  \n",
      "\n",
      "[10 rows x 34 columns]\n"
     ]
    }
   ],
   "source": [
    "## This loads asset data and lets you explore the dataset\n",
    "## Make sure the worksheet and data are in the same folder\n",
    "\n",
    "index = getSymbolsToTrade()\n",
    "if not os.path.isfile('%s.csv'%index):\n",
    "    downloadFile(index)\n",
    "idx_data = pd.read_csv('%s.csv'%index, index_col='TimeStamp')\n",
    "idx_data.sort_index(axis=0, level=None, ascending=True, inplace=True)\n",
    "print(\"Data Column Names:\")\n",
    "print(idx_data.columns)\n",
    "print(index, idx_data.index[0], idx_data.index[-1])\n",
    "print(idx_data.head(10))"
   ]
  },
  {
   "cell_type": "markdown",
   "metadata": {},
   "source": [
    "**The cells below evaluate your functions. DONOT CHANGE ANYTHING BELOW THIS!!**"
   ]
  },
  {
   "cell_type": "code",
   "execution_count": 222,
   "metadata": {},
   "outputs": [],
   "source": [
    "## DONOT CHANGE ANYTHING BELOW THIS\n",
    "\n",
    "# empty lists to store returns, volatility and weights of imaginary portfolios\n",
    "port_returns = []\n",
    "port_volatility = []\n",
    "sharpe_ratio = []\n",
    "asset_weights = []\n",
    "reward_list = []\n",
    "turnover_list = []\n",
    "idx_returns = []\n",
    "\n",
    "#empty df to store previous period returns\n",
    "ri = None"
   ]
  },
  {
   "cell_type": "code",
   "execution_count": 223,
   "metadata": {},
   "outputs": [
    {
     "name": "stderr",
     "output_type": "stream",
     "text": [
      "E:\\SOFTWARE\\lib\\site-packages\\scipy\\optimize\\_minimize.py:520: RuntimeWarning: Method TNC cannot handle constraints.\n",
      "  RuntimeWarning)\n"
     ]
    },
    {
     "name": "stdout",
     "output_type": "stream",
     "text": [
      "-2.4817292545000003 0.0 0.018937349501482275 0 -2.5006666040014824\n"
     ]
    },
    {
     "name": "stderr",
     "output_type": "stream",
     "text": [
      "E:\\SOFTWARE\\lib\\site-packages\\scipy\\optimize\\_minimize.py:520: RuntimeWarning: Method TNC cannot handle constraints.\n",
      "  RuntimeWarning)\n"
     ]
    },
    {
     "name": "stdout",
     "output_type": "stream",
     "text": [
      "2.613414074794361 0.0 0.019887804285418906 0 2.593526270508942\n"
     ]
    },
    {
     "name": "stderr",
     "output_type": "stream",
     "text": [
      "E:\\SOFTWARE\\lib\\site-packages\\scipy\\optimize\\_minimize.py:520: RuntimeWarning: Method TNC cannot handle constraints.\n",
      "  RuntimeWarning)\n"
     ]
    },
    {
     "name": "stdout",
     "output_type": "stream",
     "text": [
      "7.243964413737741 0.0 0.019664543271519164 0 7.224299870466222\n"
     ]
    },
    {
     "name": "stderr",
     "output_type": "stream",
     "text": [
      "E:\\SOFTWARE\\lib\\site-packages\\scipy\\optimize\\_minimize.py:520: RuntimeWarning: Method TNC cannot handle constraints.\n",
      "  RuntimeWarning)\n"
     ]
    },
    {
     "name": "stdout",
     "output_type": "stream",
     "text": [
      "5.085448363485636 0.0 0.017997862779469014 0 5.067450500706167\n"
     ]
    },
    {
     "name": "stderr",
     "output_type": "stream",
     "text": [
      "E:\\SOFTWARE\\lib\\site-packages\\scipy\\optimize\\_minimize.py:520: RuntimeWarning: Method TNC cannot handle constraints.\n",
      "  RuntimeWarning)\n"
     ]
    },
    {
     "name": "stdout",
     "output_type": "stream",
     "text": [
      "-1.9793341854730566 0.2511975345134718 0.02040304027654774 41.727174720668046 -2.0248569792009516\n"
     ]
    },
    {
     "name": "stderr",
     "output_type": "stream",
     "text": [
      "E:\\SOFTWARE\\lib\\site-packages\\scipy\\optimize\\_minimize.py:520: RuntimeWarning: Method TNC cannot handle constraints.\n",
      "  RuntimeWarning)\n"
     ]
    },
    {
     "name": "stdout",
     "output_type": "stream",
     "text": [
      "2.036459088190276 0.2511975345134718 0.019871696807938627 49.834177411337606 1.9914676379309904\n"
     ]
    },
    {
     "name": "stderr",
     "output_type": "stream",
     "text": [
      "E:\\SOFTWARE\\lib\\site-packages\\scipy\\optimize\\_minimize.py:520: RuntimeWarning: Method TNC cannot handle constraints.\n",
      "  RuntimeWarning)\n"
     ]
    },
    {
     "name": "stdout",
     "output_type": "stream",
     "text": [
      "-0.9030884436519904 0.6585179076148893 0.020382672554180793 17.638296426367898 -0.9893229069676601\n"
     ]
    },
    {
     "name": "stderr",
     "output_type": "stream",
     "text": [
      "E:\\SOFTWARE\\lib\\site-packages\\scipy\\optimize\\_minimize.py:520: RuntimeWarning: Method TNC cannot handle constraints.\n",
      "  RuntimeWarning)\n"
     ]
    },
    {
     "name": "stdout",
     "output_type": "stream",
     "text": [
      "0.08676227977744166 0.6585179076148893 0.01873067590332663 17.77005029178925 0.0021798131126260986\n"
     ]
    },
    {
     "name": "stderr",
     "output_type": "stream",
     "text": [
      "E:\\SOFTWARE\\lib\\site-packages\\scipy\\optimize\\_minimize.py:520: RuntimeWarning: Method TNC cannot handle constraints.\n",
      "  RuntimeWarning)\n"
     ]
    },
    {
     "name": "stdout",
     "output_type": "stream",
     "text": [
      "2.5256695637529374 0.6585179076148893 0.01896019320874886 21.60543507714878 2.4408575797826995\n"
     ]
    },
    {
     "name": "stderr",
     "output_type": "stream",
     "text": [
      "E:\\SOFTWARE\\lib\\site-packages\\scipy\\optimize\\_minimize.py:520: RuntimeWarning: Method TNC cannot handle constraints.\n",
      "  RuntimeWarning)\n"
     ]
    },
    {
     "name": "stdout",
     "output_type": "stream",
     "text": [
      "2.2865410112117823 0.6585179076148893 0.020993404382041145 25.077688427848823 2.1996958160682523\n"
     ]
    },
    {
     "name": "stderr",
     "output_type": "stream",
     "text": [
      "E:\\SOFTWARE\\lib\\site-packages\\scipy\\optimize\\_minimize.py:520: RuntimeWarning: Method TNC cannot handle constraints.\n",
      "  RuntimeWarning)\n"
     ]
    },
    {
     "ename": "ValueError",
     "evalue": "shapes (156,) and (153,) not aligned: 156 (dim 0) != 153 (dim 0)",
     "output_type": "error",
     "traceback": [
      "\u001b[1;31m---------------------------------------------------------------------------\u001b[0m",
      "\u001b[1;31mValueError\u001b[0m                                Traceback (most recent call last)",
      "\u001b[1;32m<ipython-input-223-1a219189fea6>\u001b[0m in \u001b[0;36m<module>\u001b[1;34m()\u001b[0m\n\u001b[0;32m     49\u001b[0m         \u001b[0mwt\u001b[0m \u001b[1;33m=\u001b[0m \u001b[0mgetWeights\u001b[0m\u001b[1;33m(\u001b[0m\u001b[0mcusips\u001b[0m\u001b[1;33m,\u001b[0m \u001b[0mreward_list\u001b[0m\u001b[1;33m[\u001b[0m\u001b[1;33m-\u001b[0m\u001b[1;36m1\u001b[0m\u001b[1;33m]\u001b[0m\u001b[1;33m,\u001b[0m \u001b[0mwi\u001b[0m\u001b[1;33m,\u001b[0m \u001b[0mDt\u001b[0m\u001b[1;33m,\u001b[0m \u001b[0mSt\u001b[0m\u001b[1;33m,\u001b[0m \u001b[0mqt\u001b[0m\u001b[1;33m,\u001b[0m \u001b[0mg\u001b[0m\u001b[1;33m,\u001b[0m \u001b[0mU\u001b[0m\u001b[1;33m,\u001b[0m \u001b[0mt\u001b[0m\u001b[1;33m,\u001b[0m \u001b[0mT\u001b[0m\u001b[1;33m,\u001b[0m \u001b[0mP\u001b[0m\u001b[1;33m,\u001b[0m \u001b[0mdelta\u001b[0m\u001b[1;33m,\u001b[0m \u001b[0mchi\u001b[0m\u001b[1;33m,\u001b[0m \u001b[0meta\u001b[0m\u001b[1;33m,\u001b[0m \u001b[0mcounter\u001b[0m\u001b[1;33m)\u001b[0m\u001b[1;33m\u001b[0m\u001b[0m\n\u001b[0;32m     50\u001b[0m     \u001b[1;31m## calculate reward\u001b[0m\u001b[1;33m\u001b[0m\u001b[1;33m\u001b[0m\u001b[0m\n\u001b[1;32m---> 51\u001b[1;33m     \u001b[0mreward\u001b[0m \u001b[1;33m=\u001b[0m \u001b[0mgetReward\u001b[0m\u001b[1;33m(\u001b[0m\u001b[0mwt\u001b[0m\u001b[1;33m,\u001b[0m \u001b[0mwt_1\u001b[0m\u001b[1;33m,\u001b[0m \u001b[0mri\u001b[0m\u001b[1;33m,\u001b[0m \u001b[0ml\u001b[0m\u001b[1;33m,\u001b[0m \u001b[0mk\u001b[0m\u001b[1;33m)\u001b[0m\u001b[1;33m\u001b[0m\u001b[0m\n\u001b[0m\u001b[0;32m     52\u001b[0m     \u001b[1;31m## store relevant info in their lists\u001b[0m\u001b[1;33m\u001b[0m\u001b[1;33m\u001b[0m\u001b[0m\n\u001b[0;32m     53\u001b[0m     \u001b[0masset_weights\u001b[0m\u001b[1;33m.\u001b[0m\u001b[0mappend\u001b[0m\u001b[1;33m(\u001b[0m\u001b[0mwt\u001b[0m\u001b[1;33m)\u001b[0m\u001b[1;33m\u001b[0m\u001b[0m\n",
      "\u001b[1;32m<ipython-input-214-c18a1d698a13>\u001b[0m in \u001b[0;36mgetReward\u001b[1;34m(wt, wt_1, ri, l, k)\u001b[0m\n\u001b[0;32m      8\u001b[0m     \u001b[1;32melse\u001b[0m\u001b[1;33m:\u001b[0m\u001b[1;33m\u001b[0m\u001b[0m\n\u001b[0;32m      9\u001b[0m         \u001b[0mri\u001b[0m\u001b[1;33m.\u001b[0m\u001b[0mfillna\u001b[0m\u001b[1;33m(\u001b[0m\u001b[1;36m0\u001b[0m\u001b[1;33m,\u001b[0m \u001b[0minplace\u001b[0m\u001b[1;33m=\u001b[0m\u001b[1;32mTrue\u001b[0m\u001b[1;33m)\u001b[0m\u001b[1;33m\u001b[0m\u001b[0m\n\u001b[1;32m---> 10\u001b[1;33m         \u001b[0mreturns\u001b[0m \u001b[1;33m=\u001b[0m \u001b[0mnp\u001b[0m\u001b[1;33m.\u001b[0m\u001b[0mdot\u001b[0m\u001b[1;33m(\u001b[0m \u001b[0mri\u001b[0m\u001b[1;33m,\u001b[0m \u001b[0mwt_1\u001b[0m\u001b[1;33m)\u001b[0m\u001b[1;33m\u001b[0m\u001b[0m\n\u001b[0m\u001b[0;32m     11\u001b[0m         \u001b[0mport_returns\u001b[0m\u001b[1;33m.\u001b[0m\u001b[0mappend\u001b[0m\u001b[1;33m(\u001b[0m\u001b[0mreturns\u001b[0m\u001b[1;33m)\u001b[0m\u001b[1;33m\u001b[0m\u001b[0m\n\u001b[0;32m     12\u001b[0m         \u001b[0mdownside_returns\u001b[0m \u001b[1;33m=\u001b[0m \u001b[1;33m[\u001b[0m\u001b[0mx\u001b[0m \u001b[1;32mfor\u001b[0m \u001b[0mx\u001b[0m \u001b[1;32min\u001b[0m \u001b[0mport_returns\u001b[0m \u001b[1;32mif\u001b[0m \u001b[0mx\u001b[0m \u001b[1;33m<\u001b[0m \u001b[1;36m0\u001b[0m\u001b[1;33m]\u001b[0m\u001b[1;33m\u001b[0m\u001b[0m\n",
      "\u001b[1;31mValueError\u001b[0m: shapes (156,) and (153,) not aligned: 156 (dim 0) != 153 (dim 0)"
     ]
    }
   ],
   "source": [
    "### Evaluator to getweights at everytime t and calcuate reward + check if constraints are met\n",
    "\n",
    "## specifying all the constants\n",
    "counter = 0\n",
    "l = 0.1\n",
    "k = 0.03\n",
    "g = 0.03\n",
    "U = 2.5\n",
    "t= 0\n",
    "T = 0\n",
    "P = 80\n",
    "delta = 0.5\n",
    "chi = 0.1\n",
    "eta = 0.95\n",
    "\n",
    "## initializing arrays\n",
    "dates = idx_data.index.unique()\n",
    "# port_returns.append(0)\n",
    "# port_volatility.append(0)\n",
    "# sharpe_ratio.append(0)\n",
    "# asset_weights.append(None)#pd.Series(idx_data[idx_data.index == dates[0]]['wI'].values/100, \n",
    "#                            #    index=idx_data[idx_data.index == dates[0]]['Identifier'].values))\n",
    "# reward_list.append(0)\n",
    "idx_returns.append(0)\n",
    "# turnover_list.append(0)\n",
    "## looping over all dates\n",
    "while counter < len(dates):\n",
    "#     import pdb;pdb.set_trace()\n",
    "    date = dates[counter]\n",
    "    \n",
    "    ## load all the data for a date\n",
    "    date_data = idx_data[idx_data.index == date]\n",
    "    \n",
    "    ## get all the identifiers for a date\n",
    "    cusips = date_data['Identifier'].unique()\n",
    "    date_data.set_index( date_data['Identifier'], inplace=True)\n",
    "    #load specific feature info\n",
    "    wi = pd.Series(date_data['wI']/100, index = date_data['Identifier'])\n",
    "    Dt = pd.Series(date_data['d'], index = date_data['Identifier'])\n",
    "    St = pd.Series(date_data['S'], index = date_data['Identifier'])\n",
    "    qt = pd.Series(date_data['q'], index = date_data['Identifier'])\n",
    "    ## old weights\n",
    "    wt_1 = asset_weights[-1] if len(asset_weights)>0 else None    \n",
    "    ## get new weights\n",
    "\n",
    "    if wt_1 is None:\n",
    "        wt = wi.copy()\n",
    "    else:\n",
    "        wt = getWeights(cusips, reward_list[-1], wi, Dt, St, qt, g, U, t, T, P, delta, chi, eta, counter) \n",
    "    ## calculate reward\n",
    "    reward = getReward(wt, wt_1, ri, l, k)\n",
    "    ## store relevant info in their lists\n",
    "    asset_weights.append(wt)\n",
    "    reward_list.append(reward)\n",
    "    \n",
    "    ## verify if all constraints are met\n",
    "    \n",
    "    counter += 1\n",
    "    \n",
    "    ## Store end of month returns to calculate reward in next period\n",
    "    ri = pd.Series(date_data['TRR'], index = date_data['Identifier'])\n",
    "    ##idx_returns for next period\n",
    "    idx_returns.append(np.dot(wi, pd.Series(date_data['TRR'], index = wi.index)))\n",
    "\n",
    "\n",
    "reward = getReward(wt, wt_1, ri, l, k)\n",
    "print(reward)\n",
    "## check if contraints on total return and risk are met        \n",
    "Rmin = np.sum(idx_returns)\n",
    "volmax = np.std(idx_returns)\n",
    "if checkFinalConstraints(Rmin, volmax):\n",
    "    print(\"ERROR!!!! weights don't meet return/risk limit contraints, exiting\")\n",
    "else:\n",
    "    print(\"Portfolio Metrics:\")\n",
    "    print(\"Total Return: %.2f\"%np.sum(port_returns))\n",
    "    print(\"Standard Deviation: %.2f\"%port_volatility[-1])\n",
    "    print(\"Sharpe Ratio: %.2f\"%sharpe_ratio[-1])\n",
    "    "
   ]
  },
  {
   "cell_type": "code",
   "execution_count": 193,
   "metadata": {},
   "outputs": [
    {
     "data": {
      "text/plain": [
       "132"
      ]
     },
     "execution_count": 193,
     "metadata": {},
     "output_type": "execute_result"
    }
   ],
   "source": [
    "len(ri)"
   ]
  },
  {
   "cell_type": "code",
   "execution_count": 194,
   "metadata": {},
   "outputs": [
    {
     "data": {
      "text/plain": [
       "129"
      ]
     },
     "execution_count": 194,
     "metadata": {},
     "output_type": "execute_result"
    }
   ],
   "source": [
    "len(wt_1)"
   ]
  },
  {
   "cell_type": "code",
   "execution_count": 147,
   "metadata": {},
   "outputs": [
    {
     "data": {
      "text/plain": [
       "pandas.core.series.Series"
      ]
     },
     "execution_count": 147,
     "metadata": {},
     "output_type": "execute_result"
    }
   ],
   "source": [
    "type(ri)"
   ]
  },
  {
   "cell_type": "code",
   "execution_count": 148,
   "metadata": {},
   "outputs": [],
   "source": [
    "ri = ri[:129]"
   ]
  },
  {
   "cell_type": "code",
   "execution_count": 149,
   "metadata": {},
   "outputs": [
    {
     "data": {
      "text/plain": [
       "129"
      ]
     },
     "execution_count": 149,
     "metadata": {},
     "output_type": "execute_result"
    }
   ],
   "source": [
    "len(ri)"
   ]
  },
  {
   "cell_type": "code",
   "execution_count": 165,
   "metadata": {},
   "outputs": [
    {
     "ename": "ValueError",
     "evalue": "shapes (129,) and (132,) not aligned: 129 (dim 0) != 132 (dim 0)",
     "output_type": "error",
     "traceback": [
      "\u001b[1;31m---------------------------------------------------------------------------\u001b[0m",
      "\u001b[1;31mValueError\u001b[0m                                Traceback (most recent call last)",
      "\u001b[1;32m<ipython-input-165-a15a4e8e9976>\u001b[0m in \u001b[0;36m<module>\u001b[1;34m()\u001b[0m\n\u001b[1;32m----> 1\u001b[1;33m \u001b[0mnp\u001b[0m\u001b[1;33m.\u001b[0m\u001b[0mdot\u001b[0m\u001b[1;33m(\u001b[0m\u001b[0mwt_1\u001b[0m\u001b[1;33m,\u001b[0m\u001b[0mri\u001b[0m\u001b[1;33m)\u001b[0m\u001b[1;33m\u001b[0m\u001b[0m\n\u001b[0m",
      "\u001b[1;31mValueError\u001b[0m: shapes (129,) and (132,) not aligned: 129 (dim 0) != 132 (dim 0)"
     ]
    }
   ],
   "source": [
    "np.dot(wt_1,ri)"
   ]
  },
  {
   "cell_type": "code",
   "execution_count": 195,
   "metadata": {},
   "outputs": [
    {
     "ename": "NameError",
     "evalue": "name 'length' is not defined",
     "output_type": "error",
     "traceback": [
      "\u001b[1;31m---------------------------------------------------------------------------\u001b[0m",
      "\u001b[1;31mNameError\u001b[0m                                 Traceback (most recent call last)",
      "\u001b[1;32m<ipython-input-195-29448fdbe8f2>\u001b[0m in \u001b[0;36m<module>\u001b[1;34m()\u001b[0m\n\u001b[1;32m----> 1\u001b[1;33m \u001b[0mlength\u001b[0m\u001b[1;33m\u001b[0m\u001b[0m\n\u001b[0m",
      "\u001b[1;31mNameError\u001b[0m: name 'length' is not defined"
     ]
    }
   ],
   "source": [
    "length"
   ]
  },
  {
   "cell_type": "code",
   "execution_count": null,
   "metadata": {},
   "outputs": [],
   "source": []
  },
  {
   "cell_type": "code",
   "execution_count": null,
   "metadata": {},
   "outputs": [],
   "source": []
  },
  {
   "cell_type": "code",
   "execution_count": null,
   "metadata": {},
   "outputs": [],
   "source": []
  },
  {
   "cell_type": "code",
   "execution_count": null,
   "metadata": {},
   "outputs": [],
   "source": []
  },
  {
   "cell_type": "code",
   "execution_count": null,
   "metadata": {},
   "outputs": [],
   "source": []
  },
  {
   "cell_type": "code",
   "execution_count": null,
   "metadata": {},
   "outputs": [],
   "source": []
  },
  {
   "cell_type": "code",
   "execution_count": null,
   "metadata": {},
   "outputs": [],
   "source": []
  },
  {
   "cell_type": "code",
   "execution_count": null,
   "metadata": {},
   "outputs": [],
   "source": []
  }
 ],
 "metadata": {
  "kernelspec": {
   "display_name": "Python 3",
   "language": "python",
   "name": "python3"
  },
  "language_info": {
   "codemirror_mode": {
    "name": "ipython",
    "version": 3
   },
   "file_extension": ".py",
   "mimetype": "text/x-python",
   "name": "python",
   "nbconvert_exporter": "python",
   "pygments_lexer": "ipython3",
   "version": "3.6.8"
  }
 },
 "nbformat": 4,
 "nbformat_minor": 2
}
